{
  "cells": [
    {
      "cell_type": "markdown",
      "source": [
        "# Hyper-parameter tuning with Pytorch\n",
        "The objective of this lab is to learn how to tune the hyper-parameters of a simple network to classify\n",
        "clothes items in the Fashion MNIST benchmark, a revisitation of the famous MNIST hand-written\n",
        "recognition benchmark.\n",
        "\n",
        "The dataset is available at torchvision.datasets.FashionMNIST"
      ],
      "metadata": {
        "id": "TPdfh_-pVZ0A"
      }
    },
    {
      "cell_type": "markdown",
      "source": [
        "# Preliminaries\n",
        "Before starting, review or have ready the following material:\n",
        "*  Review introduction to Pytorch and MNIST notebook\n",
        "*  Review lesson on gradient descent 03. Parameter learning - Gradient descent .pdf\n",
        "*  Review the concepts of under-fitting and over-fitting (04. Model and cost function.pdf – slides\n",
        "52-62)\n",
        "*  Information about layers available in Pytorch is found in the documentation\n",
        "https://pytorch.org/docs/stable/nn.html\n",
        "*  (Bonus) view additional material (slides and video) on optimizers and hyper-parameter\n",
        "optimization\n",
        "\n",
        "\n"
      ],
      "metadata": {
        "id": "kyaoxoADVs7P"
      }
    },
    {
      "cell_type": "markdown",
      "source": [
        "# Lab activity\n",
        "Follow these steps, complete the notebook and submit your answers:\n",
        "1. Create a new notebook in Colab and import the libraries. Remember to set the runtime to GPU!"
      ],
      "metadata": {
        "id": "HoBT_mFrV1r3"
      }
    },
    {
      "cell_type": "code",
      "source": [
        "import argparse\n",
        "import torch\n",
        "import torch.nn as nn\n",
        "import torch.nn.functional as F\n",
        "import torch.optim as optim\n",
        "from torchvision import datasets, transforms"
      ],
      "metadata": {
        "id": "kBskeZ_MV7X-"
      },
      "execution_count": 1,
      "outputs": []
    },
    {
      "cell_type": "markdown",
      "source": [
        "2. (Optional) Fashion MNIST only includes a training and test set. In order to monitor overfitting, it\n",
        "is better to also create a validation set. A possible way to construct the validation set is to\n",
        "reserve 10% of the training set as validation set. Hint: look up torch.utils.data.random_split"
      ],
      "metadata": {
        "id": "h4ZerK24WS7O"
      }
    },
    {
      "cell_type": "code",
      "source": [],
      "metadata": {
        "id": "TCqZC_HRWY38"
      },
      "execution_count": null,
      "outputs": []
    }
  ],
  "metadata": {
    "colab": {
      "name": "Welcome To Colab",
      "toc_visible": true,
      "provenance": []
    },
    "kernelspec": {
      "display_name": "Python 3",
      "name": "python3"
    }
  },
  "nbformat": 4,
  "nbformat_minor": 0
}